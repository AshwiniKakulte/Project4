{
 "cells": [
  {
   "cell_type": "markdown",
   "id": "2915a007",
   "metadata": {},
   "source": [
    "### 3.CREATE MATHEMATICAL TABLE OF ANY NUMBER\n",
    "\n",
    "\n",
    "Write a program that takes an integer as input, and creates a mathematical table of that number.\n",
    "\n",
    "\n",
    "1 x number = result\n",
    "\n",
    "2 x number = result\n",
    "\n",
    "3x number = result\n",
    "\n",
    ".\n",
    "\n",
    ".\n",
    "\n",
    ".\n",
    "\n",
    "10 x number = resul"
   ]
  },
  {
   "cell_type": "code",
   "execution_count": 1,
   "id": "381e8437",
   "metadata": {},
   "outputs": [
    {
     "name": "stdout",
     "output_type": "stream",
     "text": [
      "Enter the number you want to generate a multiplication table for, then hit the `enter` key: 20\n",
      "20  *  1  =  20\n",
      "20  *  2  =  40\n",
      "20  *  3  =  60\n",
      "20  *  4  =  80\n",
      "20  *  5  =  100\n",
      "20  *  6  =  120\n",
      "20  *  7  =  140\n",
      "20  *  8  =  160\n",
      "20  *  9  =  180\n",
      "20  *  10  =  200\n"
     ]
    }
   ],
   "source": [
    "ourNum = int(input(\"Enter the number you want to generate a multiplication table for, then hit the `enter` key: \"))\n",
    "ourRange = range(1,11)\n",
    "for x in ourRange:\n",
    "    result = ourNum * x\n",
    "    print(ourNum,\" * \",x,\" = \",result)"
   ]
  },
  {
   "cell_type": "code",
   "execution_count": null,
   "id": "357c90c9",
   "metadata": {},
   "outputs": [],
   "source": []
  }
 ],
 "metadata": {
  "kernelspec": {
   "display_name": "Python 3 (ipykernel)",
   "language": "python",
   "name": "python3"
  },
  "language_info": {
   "codemirror_mode": {
    "name": "ipython",
    "version": 3
   },
   "file_extension": ".py",
   "mimetype": "text/x-python",
   "name": "python",
   "nbconvert_exporter": "python",
   "pygments_lexer": "ipython3",
   "version": "3.9.13"
  }
 },
 "nbformat": 4,
 "nbformat_minor": 5
}
